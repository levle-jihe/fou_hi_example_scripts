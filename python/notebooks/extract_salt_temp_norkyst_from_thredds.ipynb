{
 "cells": [
  {
   "cell_type": "code",
   "execution_count": 1,
   "id": "30ae3d0b-77c6-4f11-ba6d-f3b12aba9228",
   "metadata": {},
   "outputs": [],
   "source": [
    "import netCDF4\n",
    "import numpy as np\n",
    "import datetime\n",
    "import sys"
   ]
  },
  {
   "cell_type": "code",
   "execution_count": 2,
   "id": "3529aa6e-2392-4ed7-8991-e63a3afa4303",
   "metadata": {},
   "outputs": [],
   "source": [
    "def roms_latlon2xy(f,lat,lon,roundvals=True):\n",
    "    a = abs( f.variables['lat'][:]-lat ) + abs( f.variables['lon'][:]-lon )\n",
    "    y_coord, x_coord = np.unravel_index(a.argmin(), a.shape)\n",
    "    if roundvals:\n",
    "        x_coord = int(np.round(x_coord))\n",
    "        y_coord = int(np.round(y_coord))\n",
    "    return x_coord, y_coord\n",
    "\n",
    "def BFS(start_i, start_j, arr, crit=1):\n",
    "    \"\"\"\n",
    "    Code from josteinb@met.no\n",
    "\n",
    "    desc:\n",
    "        Breadth first search function to find index of nearest\n",
    "        point with crit value (default crit=1 for finding ROMS\n",
    "        wet-point in mask)\n",
    "    args:\n",
    "        - start_i: Start index of i\n",
    "        - start_j: Start index of j\n",
    "        - arr: grid with data\n",
    "        - crit: value to search for (deafult unmasked point)\n",
    "    return:\n",
    "        - index of point\n",
    "    \"\"\"\n",
    "    dirs    = [(1,0), (-1,0), (0,1),(0,-1)]\n",
    "    visited = set()\n",
    "    q       = [(start_i, start_j)]    # init queue to start pos\n",
    "    count   = 0\n",
    "    arrays  = list()  # for storing frames if plotting\n",
    "    # while something in queue\n",
    "    while q:\n",
    "        current = q.pop(0)      # pop the first in waiting queue\n",
    "        # if we have visited this before\n",
    "        if current in visited:\n",
    "            continue\n",
    "        visited.add(current)    # Add to set of visited\n",
    "        # If not in border list\n",
    "        # Test if this is land, if true go to next in queue, else return idx\n",
    "        if arr[current[0], current[1]] == crit:\n",
    "            return current[0], current[1]\n",
    "        count += 1      #updates the count\n",
    "        # Loop over neighbours and add to queue\n",
    "        for di, dj in dirs:\n",
    "            new_i = current[0]+di\n",
    "            new_j = current[1]+dj\n",
    "            q.append((new_i, new_j))"
   ]
  },
  {
   "cell_type": "code",
   "execution_count": 3,
   "id": "3423b95f-cb86-4fb1-8bc5-84d58c58505a",
   "metadata": {},
   "outputs": [],
   "source": [
    "filename = 'https://thredds.met.no/thredds/dodsC/sea/norkyst800m/1h/aggregate_be'\n",
    "nc       = netCDF4.Dataset(filename)\n",
    "lat      = [60.13035, 59.434547]\n",
    "lon      = [5.248183, 5.243415]\n",
    "name     = ['Trollsoy, Austevoll', 'Kvalsvik, Haugesund, Rogaland']\n",
    "dates    = [datetime.datetime(2021,4,5,12), datetime.datetime(2022,2,11,12)]\n",
    "depth    = 1 # is at 3 meters, use depth index from [   0.,    3.,   10.,   15.,   25.,   50.,   75.,  100., 150.,  200.,  250.,  300.,  500., 1000., 2000., 3000.]"
   ]
  },
  {
   "cell_type": "code",
   "execution_count": 4,
   "id": "67b38b66-0cf4-47e4-bcef-e300c58d8086",
   "metadata": {},
   "outputs": [],
   "source": [
    "# Check all arrays length:\n",
    "if not (len(lat) == len(lon) == len(name) == len(dates)):\n",
    "    print('Error in array lengths')\n",
    "    sys.exit(1)"
   ]
  },
  {
   "cell_type": "code",
   "execution_count": 5,
   "id": "15bcc4b8-fc77-41b1-bb21-b36bd1c6357d",
   "metadata": {},
   "outputs": [
    {
     "name": "stdout",
     "output_type": "stream",
     "text": [
      "model lat 60.13118388284562, lon 5.25095138261705\n",
      "Trollsoy, Austevoll: 393, 533 (x, y), salt: 32.59299850463867, temp: 6.699999809265137\n",
      "-------------------------\n",
      "Position is on land, will find nearest wet gridpoint\n",
      "model lat 59.43782925679045, lon 5.231807920605765\n",
      "Kvalsvik, Haugesund, Rogaland: 305, 493 (x, y), salt: 33.75699996948242, temp: 7.12999963760376\n",
      "-------------------------\n"
     ]
    }
   ],
   "source": [
    "# Loop over all stations:\n",
    "for i in range(len(name)):\n",
    "    x, y = roms_latlon2xy(nc, lat[i], lon[i])\n",
    "    t = np.where(netCDF4.num2date(nc.variables['time'][:], nc.variables['time'].units) == dates[i])[0][0]\n",
    "    mask = np.where(nc.variables['salinity'][t,depth,:].mask, 0, np.ones_like(nc.variables['salinity'][t,depth,:].mask))\n",
    "    if mask[y,x] == 0:\n",
    "        print('Position is on land, will find nearest wet gridpoint')\n",
    "        y, x = BFS(y,x,mask)\n",
    "    salt = nc.variables['salinity'][t,depth,y,x]\n",
    "    temp = nc.variables['temperature'][t,depth,y,x]\n",
    "    print('model lat {}, lon {}'.format(nc.variables['lat'][y,x], nc.variables['lon'][y,x]))\n",
    "    print('{}: {}, {} (x, y), salt: {}, temp: {}'.format(name[i], x, y, salt, temp))\n",
    "    print('-------------------------')"
   ]
  }
 ],
 "metadata": {
  "kernelspec": {
   "display_name": "Python 3 (ipykernel)",
   "language": "python",
   "name": "python3"
  },
  "language_info": {
   "codemirror_mode": {
    "name": "ipython",
    "version": 3
   },
   "file_extension": ".py",
   "mimetype": "text/x-python",
   "name": "python",
   "nbconvert_exporter": "python",
   "pygments_lexer": "ipython3",
   "version": "3.10.4"
  }
 },
 "nbformat": 4,
 "nbformat_minor": 5
}
